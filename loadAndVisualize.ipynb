{
 "cells": [
  {
   "cell_type": "code",
   "execution_count": null,
   "metadata": {},
   "outputs": [],
   "source": [
    "import pandas as pd\n",
    "import matplotlib\n",
    "import matplotlib.pyplot as plt\n",
    "import numpy as np"
   ]
  },
  {
   "cell_type": "code",
   "execution_count": null,
   "metadata": {},
   "outputs": [],
   "source": [
    "# create giant data object, to house all data\n",
    "data = {}"
   ]
  },
  {
   "cell_type": "code",
   "execution_count": null,
   "metadata": {},
   "outputs": [],
   "source": [
    "# read all the labels for the data into a df\n",
    "def read_labels_for_all_houses():\n",
    "    houses = []\n",
    "    for house in range(1, 7):\n",
    "        hi = 'Data/low_freq/house_{}/labels.dat'.format(house)\n",
    "        df = pd.read_csv(hi, sep=\" \", header=None, names = [\"appliance_id\",\"appliance_name\"], dtype={\"appliance_id\":\"int64\",\"appliance_name\":\"string\"})\n",
    "        df['house_id'] = house\n",
    "        houses.append(df)\n",
    "    return pd.concat(houses).reset_index(drop=True)\n",
    "\n",
    "labels = read_labels_for_all_houses()\n",
    "for house in range(1,7):\n",
    "    print('House {}: \\n'.format(house), labels[labels['house_id'] == house] , '\\n')\n",
    "\n",
    "data['labels_for_houses'] = labels"
   ]
  },
  {
   "cell_type": "code",
   "execution_count": null,
   "metadata": {},
   "outputs": [],
   "source": [
    "# read all the appliance data points for all houses\n",
    "def read_channel_data(labels_for_houses, house_id):\n",
    "    house_labels = labels_for_houses[labels_for_houses['house_id'] == house_id]\n",
    "    # print(house_labels)\n",
    "    df = pd.DataFrame()\n",
    "    for index,row in house_labels.reset_index().iterrows():\n",
    "        path = 'data/low_freq/house_{}/'.format(house_id)\n",
    "        file = path + 'channel_{}.dat'.format(row['appliance_id'])\n",
    "        cname = (row['house_id'], row['appliance_id'], row['appliance_name'])\n",
    "        file_content = pd.read_table(file, sep = ' ', names = ['unix_time', cname], \n",
    "                                        dtype = {'unix_time': 'int64', cname:'float64'})\n",
    "        if(index==0):\n",
    "            df = file_content\n",
    "        else:\n",
    "            df = pd.merge(df, file_content, how='inner', on='unix_time')\n",
    "    \n",
    "    df['timestamp'] = df['unix_time'].astype(\"datetime64[s]\")\n",
    "    df = df.set_index(df['timestamp'].values)\n",
    "    df.drop(['unix_time','timestamp'], axis=1, inplace=True)\n",
    "    df.columns = pd.MultiIndex.from_tuples(df.columns, names=[\"house_id\",\"appliance_id\", \"appliance_name\"])\n",
    "    return df\n",
    "\n",
    "# print(data['labels_for_houses'])\n",
    "data['channels'] = {}\n",
    "dfs = []\n",
    "for house in range(1,7):\n",
    "    print('reading channels for house {}'.format(house))\n",
    "    # data['channels'][house] = read_channel_data(data['labels_for_houses'], house)\n",
    "    df = read_channel_data(data['labels_for_houses'], house)\n",
    "    # print(df.head())\n",
    "    dfs.append(df)\n",
    "\n",
    "appliance_data = pd.concat(dfs, axis=1)\n",
    "print(appliance_data.columns)\n",
    "print(appliance_data.head())"
   ]
  },
  {
   "cell_type": "code",
   "execution_count": null,
   "metadata": {},
   "outputs": [],
   "source": [
    "# example of indexing with multiindex columns\n",
    "\n",
    "\n",
    "# print columns\n",
    "print(appliance_data.columns)\n",
    "\n",
    "# print only names\n",
    "print(appliance_data.columns.get_level_values('appliance_name'))\n",
    "\n",
    "# print only appliance ids\n",
    "print(appliance_data.columns.get_level_values('appliance_id'))\n",
    "\n",
    "\n",
    "# print only ids\n",
    "print(appliance_data.columns.get_level_values('house_id'))\n",
    "\n",
    "# index using appliance name \n",
    "print(appliance_data.xs('mains',level='appliance_name', axis=1).head())\n",
    "\n",
    "# and using appliance id\n",
    "print(appliance_data.xs(2,level='appliance_id', axis=1).head())\n",
    "\n",
    "# index column based on position\n",
    "print(appliance_data.iloc[:,1].head())\n"
   ]
  },
  {
   "cell_type": "code",
   "execution_count": null,
   "metadata": {},
   "outputs": [],
   "source": [
    "# extract all mains\n",
    "def hours(time):\n",
    "    return time.hour + time.minute/60 + time.second / (60*60)\n",
    "\n",
    "def index_to_hours(df):\n",
    "    return [hours(t) for t in df.index.time]"
   ]
  },
  {
   "cell_type": "code",
   "execution_count": null,
   "metadata": {},
   "outputs": [],
   "source": [
    "mainss = appliance_data.xs(\"mains\", level=\"appliance_name\", axis=1)\n",
    "timeToInt = index_to_hours(mainss)\n",
    "mainss['date'] = mainss.index.date\n",
    "\n",
    "# plot \n",
    "# for g,o in mainss.groupby('date'):\n",
    "#     o = o.iloc[:,:-1]\n",
    "#     # print(index_to_hours(o))\n",
    "#     for i in range(len(o.columns)):\n",
    "#         plt.plot(index_to_hours(o), o.iloc[:,i], label=o.columns[i])\n",
    "#     plt.title(g)\n",
    "#     plt.legend(loc=\"upper right\")\n",
    "#     plt.xlim([0,24])\n",
    "#     plt.show()\n",
    "\n",
    "plots = {}\n",
    "fig = plt.figure()\n",
    "fig.set_size_inches(20,4* (len(mainss.columns)-1))\n",
    "# fig.set_size_inches(20)\n",
    "for c in range(len(mainss.columns)-1):\n",
    "    plots[c] = fig.add_subplot(len(mainss.columns)-1,1, c+1)\n",
    "\n",
    "\n",
    "for g,o in mainss.groupby('date'):\n",
    "    o = o.iloc[:,:-1]\n",
    "    amount = len(o.columns)\n",
    "    for i in range(amount):\n",
    "        plots[i].fill_between(index_to_hours(o), o.iloc[:,i], alpha=(1/amount/5), color=\"blue\")\n",
    "        # plots[i].plot(index_to_hours(o), o.iloc[:,i], label=g, color = \"blue\", alpha = 0.)\n",
    "\n",
    "\n",
    "for i in range(len(mainss.columns[:-1])):\n",
    "    plots[i].set(xlim=[0,24], title=mainss.columns[i])\n",
    "    # plots[i].legend(loc=\"upper right\")\n",
    "    # plots[i].show()`\n",
    "plt.show()\n"
   ]
  },
  {
   "cell_type": "code",
   "execution_count": null,
   "metadata": {},
   "outputs": [],
   "source": [
    "# perform fft on signals\n",
    "mainss = appliance_data.xs(\"refrigerator\", level=\"appliance_name\", axis=1)\n",
    "\n",
    "print(mainss.columns)\n",
    "mainss['date'] = mainss.index.date\n",
    "\n",
    "for g,o in mainss.groupby('date'):\n",
    "    o = o.iloc[:,:-1]\n",
    "    y = o.iloc[:,0]\n",
    "    yf = np.fft.fft(y)[:len(y)//2]\n",
    "    xf = np.log(np.linspace(0, 1, num=len(yf)))\n",
    "    fig = plt.figure()\n",
    "    fig.set_size_inches(10,5)\n",
    "    ax1 = fig.add_subplot(1,2,1) \n",
    "    ax2 = fig.add_subplot(1,2,2) \n",
    "    ax1.plot(xf,abs(yf))\n",
    "    ax2.plot(index_to_hours(y),y)\n",
    "    plt.show()\n"
   ]
  }
 ],
 "metadata": {
  "interpreter": {
   "hash": "2be5faf79681da6f2a61fdfdd5405d65d042280f7fba6178067603e3a2925119"
  },
  "kernelspec": {
   "display_name": "Python 3.10.0 64-bit",
   "language": "python",
   "name": "python3"
  },
  "language_info": {
   "codemirror_mode": {
    "name": "ipython",
    "version": 3
   },
   "file_extension": ".py",
   "mimetype": "text/x-python",
   "name": "python",
   "nbconvert_exporter": "python",
   "pygments_lexer": "ipython3",
   "version": "3.10.0"
  },
  "orig_nbformat": 4
 },
 "nbformat": 4,
 "nbformat_minor": 2
}
