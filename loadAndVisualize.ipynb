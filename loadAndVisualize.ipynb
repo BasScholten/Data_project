{
 "cells": [
  {
   "cell_type": "code",
   "execution_count": null,
   "metadata": {},
   "outputs": [],
   "source": [
    "import pandas as pd"
   ]
  },
  {
   "cell_type": "code",
   "execution_count": null,
   "metadata": {},
   "outputs": [],
   "source": [
    "# create giant data object, to house all data\n",
    "data = {}"
   ]
  },
  {
   "cell_type": "code",
   "execution_count": null,
   "metadata": {},
   "outputs": [],
   "source": [
    "# read all the labels for the data into a df\n",
    "def read_labels_for_all_houses():\n",
    "    houses = []\n",
    "    for house in range(1, 7):\n",
    "        hi = 'Data/low_freq/house_{}/labels.dat'.format(house)\n",
    "        df = pd.read_csv(hi, sep=\" \", header=None)\n",
    "        df.columns=[\"appliance_id\",\"appliance_name\"]\n",
    "        df['house_id'] = house\n",
    "        houses.append(df)\n",
    "    return pd.concat(houses).reset_index(drop=True)\n",
    "\n",
    "labels = read_labels_for_all_houses()\n",
    "for house in range(1,7):\n",
    "    print('House {}: \\n'.format(house), labels[labels['house_id'] == house] , '\\n')\n",
    "\n",
    "data['labels_for_houses'] = labels"
   ]
  }
 ],
 "metadata": {
  "interpreter": {
   "hash": "2be5faf79681da6f2a61fdfdd5405d65d042280f7fba6178067603e3a2925119"
  },
  "kernelspec": {
   "display_name": "Python 3.10.0 64-bit",
   "language": "python",
   "name": "python3"
  },
  "language_info": {
   "codemirror_mode": {
    "name": "ipython",
    "version": 3
   },
   "file_extension": ".py",
   "mimetype": "text/x-python",
   "name": "python",
   "nbconvert_exporter": "python",
   "pygments_lexer": "ipython3",
   "version": "3.10.0"
  },
  "orig_nbformat": 4
 },
 "nbformat": 4,
 "nbformat_minor": 2
}
