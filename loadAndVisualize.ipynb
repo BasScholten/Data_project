{
 "cells": [
  {
   "cell_type": "code",
   "execution_count": null,
   "metadata": {},
   "outputs": [],
   "source": [
    "import pandas as pd"
   ]
  },
  {
   "cell_type": "code",
   "execution_count": null,
   "metadata": {},
   "outputs": [],
   "source": [
    "# create giant data object, to house all data\n",
    "data = {}"
   ]
  },
  {
   "cell_type": "code",
   "execution_count": null,
   "metadata": {},
   "outputs": [],
   "source": [
    "# read all the labels for the data into a df\n",
    "def read_labels_for_all_houses():\n",
    "    houses = []\n",
    "    for house in range(1, 7):\n",
    "        hi = 'Data/low_freq/house_{}/labels.dat'.format(house)\n",
    "        df = pd.read_csv(hi, sep=\" \", header=None, names = [\"appliance_id\",\"appliance_name\"], dtype={\"appliance_id\":\"int64\",\"appliance_name\":\"string\"})\n",
    "        df['house_id'] = house\n",
    "        houses.append(df)\n",
    "    return pd.concat(houses).reset_index(drop=True)\n",
    "\n",
    "labels = read_labels_for_all_houses()\n",
    "for house in range(1,7):\n",
    "    print('House {}: \\n'.format(house), labels[labels['house_id'] == house] , '\\n')\n",
    "\n",
    "data['labels_for_houses'] = labels"
   ]
  },
  {
   "cell_type": "code",
   "execution_count": null,
   "metadata": {},
   "outputs": [],
   "source": [
    "# read all the appliance data points for all houses\n",
    "def read_channel_data(labels_for_houses, house_id):\n",
    "    house_labels = labels_for_houses[labels_for_houses['house_id'] == house_id]\n",
    "    # print(house_labels)\n",
    "    df = pd.DataFrame()\n",
    "    for index,row in house_labels.reset_index().iterrows():\n",
    "        path = 'data/low_freq/house_{}/'.format(house_id)\n",
    "        file = path + 'channel_{}.dat'.format(row['appliance_id'])\n",
    "        file_content = pd.read_table(file, sep = ' ', names = ['unix_time', (row['appliance_id'], row['appliance_name'])], \n",
    "                                        dtype = {'unix_time': 'int64', row['appliance_name']:'float64'})\n",
    "        if(index==0):\n",
    "            df = file_content\n",
    "        else:\n",
    "            # print(index)\n",
    "            df = pd.merge(df, file_content, how='inner', on='unix_time')\n",
    "    \n",
    "    df['timestamp'] = df['unix_time'].astype(\"datetime64[s]\")\n",
    "    df = df.set_index(df['timestamp'].values)\n",
    "    df.drop(['unix_time','timestamp'], axis=1, inplace=True)\n",
    "    df.columns = pd.MultiIndex.from_tuples(df.columns, names=[\"appliance_id\", \"appliance_name\"])\n",
    "    return df\n",
    "\n",
    "# print(data['labels_for_houses'])\n",
    "data['channels'] = {}\n",
    "for house in range(1,7):\n",
    "    print('reading channels for house {}'.format(house))\n",
    "    data['channels'][house] = read_channel_data(data['labels_for_houses'], house)\n",
    "\n",
    "print(data)"
   ]
  },
  {
   "cell_type": "code",
   "execution_count": null,
   "metadata": {},
   "outputs": [],
   "source": [
    "# example of indexing with multiindex columns\n",
    "\n",
    "# first retrieve house df (house 2)\n",
    "house_channels = data['channels'][2]\n",
    "\n",
    "# print columns\n",
    "print(house_channels.columns)\n",
    "\n",
    "# print only names\n",
    "print(house_channels.columns.get_level_values('appliance_name'))\n",
    "\n",
    "# print only ids\n",
    "print(house_channels.columns.get_level_values('appliance_id'))\n",
    "\n",
    "# index using appliance name \n",
    "print(house_channels.xs('mains',level='appliance_name', axis=1).head())\n",
    "\n",
    "# and using appliance id\n",
    "print(house_channels.xs(2,level='appliance_id', axis=1).head())\n"
   ]
  }
 ],
 "metadata": {
  "interpreter": {
   "hash": "2be5faf79681da6f2a61fdfdd5405d65d042280f7fba6178067603e3a2925119"
  },
  "kernelspec": {
   "display_name": "Python 3.10.0 64-bit",
   "language": "python",
   "name": "python3"
  },
  "language_info": {
   "codemirror_mode": {
    "name": "ipython",
    "version": 3
   },
   "file_extension": ".py",
   "mimetype": "text/x-python",
   "name": "python",
   "nbconvert_exporter": "python",
   "pygments_lexer": "ipython3",
   "version": "3.10.0"
  },
  "orig_nbformat": 4
 },
 "nbformat": 4,
 "nbformat_minor": 2
}
