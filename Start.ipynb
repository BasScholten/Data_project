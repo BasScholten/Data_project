{
 "cells": [
  {
   "cell_type": "markdown",
   "metadata": {},
   "source": [
    "## REDD: supervised learning on the energy disaggregation problem\n",
    "\n",
    "##### Here we test some machine learning algorithm on extracting the refrigerator energy from mains consumptions. REDD contains data of 6 houses. We first train, test the model only on data from house 1 and check how well the model performs on the unseen-pattern data of house 2.  "
   ]
  },
  {
   "cell_type": "markdown",
   "metadata": {},
   "source": [
    "#### Import packages, read house 1 and house 2 data"
   ]
  },
  {
   "cell_type": "code",
   "execution_count": null,
   "metadata": {
    "collapsed": true
   },
   "outputs": [],
   "source": [
    "import numpy as np\n",
    "import pandas as pd\n",
    "import matplotlib.pyplot as plt\n",
    "%matplotlib inline\n",
    "from IPython.display import display\n",
    "import datetime\n",
    "import time\n",
    "import math\n",
    "import warnings\n",
    "warnings.filterwarnings(\"ignore\")\n",
    "import glob"
   ]
  },
  {
   "cell_type": "code",
   "execution_count": null,
   "metadata": {
    "collapsed": false
   },
   "outputs": [],
   "source": [
    "def read_label():\n",
    "    label = {}\n",
    "    for i in range(1, 7):\n",
    "        hi = 'Data/low_freq/house_{}/labels.dat'.format(i)\n",
    "        label[i] = {}\n",
    "        with open(hi) as f:\n",
    "            for line in f:\n",
    "                splitted_line = line.split(' ')\n",
    "                label[i][int(splitted_line[0])] = splitted_line[1].strip() + '_' + splitted_line[0]\n",
    "    return label\n",
    "labels = read_label()\n",
    "for i in range(1,3):\n",
    "    print('House {}: '.format(i), labels[i], '\\n')"
   ]
  },
  {
   "cell_type": "code",
   "execution_count": null,
   "metadata": {
    "collapsed": true
   },
   "outputs": [],
   "source": [
    "def read_merge_data(house):\n",
    "    path = 'data/low_freq/house_{}/'.format(house)\n",
    "    file = path + 'channel_1.dat'\n",
    "    df = pd.read_table(file, sep = ' ', names = ['unix_time', labels[house][1]], \n",
    "                                       dtype = {'unix_time': 'int64', labels[house][1]:'float64'}) \n",
    "    \n",
    "    num_apps = len(glob.glob(path + 'channel*'))\n",
    "    for i in range(2, num_apps + 1):\n",
    "        file = path + 'channel_{}.dat'.format(i)\n",
    "        data = pd.read_table(file, sep = ' ', names = ['unix_time', labels[house][i]], \n",
    "                                       dtype = {'unix_time': 'int64', labels[house][i]:'float64'})\n",
    "        df = pd.merge(df, data, how = 'inner', on = 'unix_time')\n",
    "    df['timestamp'] = df['unix_time'].astype(\"datetime64[s]\")\n",
    "    df = df.set_index(df['timestamp'].values)\n",
    "    df.drop(['unix_time','timestamp'], axis=1, inplace=True)\n",
    "    return df\n",
    "df = {}\n",
    "for i in range(1,3):\n",
    "    df[i] = read_merge_data(i)"
   ]
  },
  {
   "cell_type": "code",
   "execution_count": null,
   "metadata": {
    "collapsed": false,
    "scrolled": true
   },
   "outputs": [],
   "source": [
    "for i in range(1,3):\n",
    "    print('House {} data has shape: '.format(i), df[i].shape)\n",
    "    display(df[i].tail(3))\n",
    "    "
   ]
  },
  {
   "cell_type": "code",
   "execution_count": null,
   "metadata": {
    "collapsed": false
   },
   "outputs": [],
   "source": [
    "dates = {}\n",
    "for i in range(1,3):\n",
    "    dates[i] = [str(time)[:10] for time in df[i].index.values]\n",
    "    dates[i] = sorted(list(set(dates[i])))\n",
    "    print('House {0} data contain {1} days from {2} to {3}.'.format(i,len(dates[i]),dates[i][0], dates[i][-1]))\n",
    "    print(dates[i], '\\n')"
   ]
  }
 ],
 "metadata": {
  "anaconda-cloud": {},
  "interpreter": {
   "hash": "5f159d7561fbf2dba6e77e0aeee14bf918aef2f98fa28d18c54107ee7fa82af8"
  },
  "kernelspec": {
   "display_name": "Python [conda env:tensorflow]",
   "language": "python",
   "name": "python3"
  },
  "language_info": {
   "codemirror_mode": {
    "name": "ipython",
    "version": 3
   },
   "file_extension": ".py",
   "mimetype": "text/x-python",
   "name": "python",
   "nbconvert_exporter": "python",
   "pygments_lexer": "ipython3",
   "version": "3.9.7"
  }
 },
 "nbformat": 4,
 "nbformat_minor": 2
}
