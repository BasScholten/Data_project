{
 "cells": [
  {
   "cell_type": "code",
   "execution_count": null,
   "metadata": {},
   "outputs": [],
   "source": [
    "import numpy as np\n",
    "import matplotlib.pyplot as plt\n",
    "\n",
    "# Number of sample points\n",
    "N = 1000\n",
    "\n",
    "# Sample spacing\n",
    "T = 1.0 / 80.0     # f = 800 Hz\n",
    "\n",
    "# Create a signal\n",
    "x = np.linspace(0.0, N*T, N)\n",
    "t0 = 7 * np.pi  # non-zero phase of the second sine\n",
    "# print(x+t0)\n",
    "y = 1*np.cos(4.0 * 2.0*np.pi*x + t0)\n",
    "yf = np.fft.fft(y) # to normalize use norm='ortho' as an additional argument\n",
    "\n",
    "# Where is a 200 Hz frequency in the results?\n",
    "freq = np.fft.fftfreq(x.size, d=T)\n",
    "print(freq)\n",
    "index, = np.where(np.isclose(freq, 4, atol=1/(T*N)))\n",
    "\n",
    "# Get magnitude and phase\n",
    "magnitude = np.abs(yf[index[0]])\n",
    "phase = np.angle(yf[index[0]])\n",
    "print(\"Magnitude:\", magnitude, \", phase:\", phase)\n",
    "\n",
    "\n",
    "y2 = 1*np.cos(4.0 * 2.0*np.pi*x + phase)\n",
    "\n",
    "fig = plt.figure()\n",
    "fig.set_size_inches(20,10)\n",
    "ax1 = fig.add_subplot(1,3,1)\n",
    "ax2 = fig.add_subplot(1,3,2)\n",
    "ax3 = fig.add_subplot(1,3,3)\n",
    "# Plot a spectrum \n",
    "ax1.plot(x, y, label='signal')   # in a conventional form\n",
    "ax1.plot(x, y2, label='signal')   \n",
    "ax1.set_xlim([0,1])\n",
    "ax2.plot(freq[0:N//2], 2/N*np.abs(yf[0:N//2]), label='amplitude spectrum')   # in a conventional form\n",
    "ax3.plot(freq[0:N//2], np.angle(yf[0:N//2]), label='phase spectrum')\n",
    "plt.legend()\n",
    "plt.grid()\n",
    "plt.show()"
   ]
  }
 ],
 "metadata": {
  "interpreter": {
   "hash": "2be5faf79681da6f2a61fdfdd5405d65d042280f7fba6178067603e3a2925119"
  },
  "kernelspec": {
   "display_name": "Python 3.10.0 64-bit",
   "language": "python",
   "name": "python3"
  },
  "language_info": {
   "codemirror_mode": {
    "name": "ipython",
    "version": 3
   },
   "file_extension": ".py",
   "mimetype": "text/x-python",
   "name": "python",
   "nbconvert_exporter": "python",
   "pygments_lexer": "ipython3",
   "version": "3.10.0"
  },
  "orig_nbformat": 4
 },
 "nbformat": 4,
 "nbformat_minor": 2
}
