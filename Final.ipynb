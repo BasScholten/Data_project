{
 "cells": [
  {
   "cell_type": "code",
   "execution_count": 1,
   "metadata": {},
   "outputs": [
    {
     "ename": "ModuleNotFoundError",
     "evalue": "No module named 'sqlalchemy'",
     "output_type": "error",
     "traceback": [
      "\u001b[1;31m---------------------------------------------------------------------------\u001b[0m",
      "\u001b[1;31mModuleNotFoundError\u001b[0m                       Traceback (most recent call last)",
      "\u001b[1;32mc:\\Users\\bassc\\OneDrive\\Documenten\\GitHub\\Data_project\\Final.ipynb Cell 1'\u001b[0m in \u001b[0;36m<cell line: 8>\u001b[1;34m()\u001b[0m\n\u001b[0;32m      <a href='vscode-notebook-cell:/c%3A/Users/bassc/OneDrive/Documenten/GitHub/Data_project/Final.ipynb#ch0000000?line=5'>6</a>\u001b[0m \u001b[39mfrom\u001b[39;00m \u001b[39mscipy\u001b[39;00m\u001b[39m.\u001b[39;00m\u001b[39mstats\u001b[39;00m \u001b[39mimport\u001b[39;00m \u001b[39m*\u001b[39m\n\u001b[0;32m      <a href='vscode-notebook-cell:/c%3A/Users/bassc/OneDrive/Documenten/GitHub/Data_project/Final.ipynb#ch0000000?line=6'>7</a>\u001b[0m \u001b[39mfrom\u001b[39;00m \u001b[39mscipy\u001b[39;00m\u001b[39m.\u001b[39;00m\u001b[39msignal\u001b[39;00m \u001b[39mimport\u001b[39;00m butter, freqs, sosfilt\n\u001b[1;32m----> <a href='vscode-notebook-cell:/c%3A/Users/bassc/OneDrive/Documenten/GitHub/Data_project/Final.ipynb#ch0000000?line=7'>8</a>\u001b[0m \u001b[39mimport\u001b[39;00m \u001b[39msqlalchemy\u001b[39;00m\n\u001b[0;32m      <a href='vscode-notebook-cell:/c%3A/Users/bassc/OneDrive/Documenten/GitHub/Data_project/Final.ipynb#ch0000000?line=8'>9</a>\u001b[0m \u001b[39mimport\u001b[39;00m \u001b[39mmatplotlib\u001b[39;00m\u001b[39m.\u001b[39;00m\u001b[39mpyplot\u001b[39;00m \u001b[39mas\u001b[39;00m \u001b[39mplt\u001b[39;00m\n\u001b[0;32m     <a href='vscode-notebook-cell:/c%3A/Users/bassc/OneDrive/Documenten/GitHub/Data_project/Final.ipynb#ch0000000?line=9'>10</a>\u001b[0m \u001b[39mfrom\u001b[39;00m \u001b[39mseaborn\u001b[39;00m \u001b[39mimport\u001b[39;00m kdeplot, distplot, displot, histplot\n",
      "\u001b[1;31mModuleNotFoundError\u001b[0m: No module named 'sqlalchemy'"
     ]
    }
   ],
   "source": [
    "##Import packages\n",
    "import pandas as pd\n",
    "import numpy as np\n",
    "from scipy import hamming\n",
    "from scipy.fft import fft, rfft, ifft\n",
    "from scipy.stats import *\n",
    "from scipy.signal import butter, freqs, sosfilt\n",
    "import sqlalchemy\n",
    "import matplotlib.pyplot as plt\n",
    "from seaborn import kdeplot, distplot, displot, histplot\n",
    "from sklearn.linear_model import LinearRegression\n",
    "import bz2\n",
    "from nilmtk.dataset_converters import convert_redd\n",
    "\n",
    "convert_redd('/data/REDD/low_freq', '/data/redd.h5')\n",
    "##Import the data\n",
    "\n",
    "#hfr='r\\Data\\high_freq_raw.tar'\n",
    "#hf=bz2.open('r\\Data\\high_freq.tar.bz2')\n",
    "#lf=bz2.open('r\\Data\\low_freq.tar.bz2')"
   ]
  }
 ],
 "metadata": {
  "interpreter": {
   "hash": "b3ba2566441a7c06988d0923437866b63cedc61552a5af99d1f4fb67d367b25f"
  },
  "kernelspec": {
   "display_name": "Python (nilmtk-env)",
   "language": "python",
   "name": "python3"
  },
  "language_info": {
   "codemirror_mode": {
    "name": "ipython",
    "version": 3
   },
   "file_extension": ".py",
   "mimetype": "text/x-python",
   "name": "python",
   "nbconvert_exporter": "python",
   "pygments_lexer": "ipython3",
   "version": "3.8.13"
  },
  "orig_nbformat": 4
 },
 "nbformat": 4,
 "nbformat_minor": 2
}
